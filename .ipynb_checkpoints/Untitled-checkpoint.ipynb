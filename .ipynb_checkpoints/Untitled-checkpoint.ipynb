{
 "cells": [
  {
   "cell_type": "code",
   "execution_count": 30,
   "id": "136a41dc",
   "metadata": {},
   "outputs": [],
   "source": [
    "import requests\n",
    "from bs4 import BeautifulSoup\n",
    "import re\n",
    "import csv\n",
    "import logging\n",
    "from urllib.parse import urljoin"
   ]
  },
  {
   "cell_type": "code",
   "execution_count": 31,
   "id": "bf9423e5",
   "metadata": {},
   "outputs": [],
   "source": [
    "logging.basicConfig(filename = 'scraper_errors.log', level = logging.ERROR)"
   ]
  },
  {
   "cell_type": "code",
   "execution_count": 32,
   "id": "628754a0",
   "metadata": {},
   "outputs": [],
   "source": [
    "# Function to search for keywords within text\n",
    "def search_for_keywords(text):\n",
    "    keywords = [\"survey\", \"program assessment\", \"program evaluation\"]\n",
    "    # Debug: Print a snippet of the text being searched\n",
    "    print(\"Searching the following text snippet for keywords:\")\n",
    "    print(text[:500])  # Print the first 500 characters of the text\n",
    "    \n",
    "    found = any(re.search(rf\"\\b{kw}\\b\", text, re.IGNORECASE) for kw in keywords)\n",
    "    \n",
    "    if found:\n",
    "        print(\"Keywords found!\")\n",
    "    else:\n",
    "        print(\"No keywords found in this snippet.\")\n",
    "        \n",
    "    return found"
   ]
  },
  {
   "cell_type": "code",
   "execution_count": 33,
   "id": "d4aec374",
   "metadata": {},
   "outputs": [],
   "source": [
    "def scrape_and_get_links(url):\n",
    "    try:\n",
    "        response = requests.get(url, verify=False)  # Temporarily bypass SSL verification\n",
    "        soup = BeautifulSoup(response.text, 'html.parser')\n",
    "        text = soup.get_text()\n",
    "\n",
    "        # Search the page content for keywords\n",
    "        if search_for_keywords(text):\n",
    "            print(f\"Keywords found on {url}\")\n",
    "            return url, [urljoin(url, a['href']) for a in soup.find_all('a', href=True)]\n",
    "\n",
    "        # Return all found links (whether or not the keywords were found)\n",
    "        return None, [urljoin(url, a['href']) for a in soup.find_all('a', href=True)]\n",
    "    \n",
    "    except Exception as e:\n",
    "        logging.error(f\"Failed to scrape {url}: {e}\", exc_info=True)\n",
    "        return None, []"
   ]
  },
  {
   "cell_type": "code",
   "execution_count": 34,
   "id": "137d6921",
   "metadata": {},
   "outputs": [],
   "source": [
    "# Main function to start crawling\n",
    "def crawl_website(landing_page_url, max_depth=100):\n",
    "    queue = [(landing_page_url, 0)]  # Store URLs with depth level\n",
    "    visited = set()  # To avoid revisiting the same page\n",
    "    results = []\n",
    "\n",
    "    while queue:\n",
    "        current_url, depth = queue.pop(0)  # Get the next URL and its depth\n",
    "\n",
    "        if current_url not in visited and depth <= max_depth:\n",
    "            visited.add(current_url)  # Mark as visited\n",
    "\n",
    "            print(f\"Scraping: {current_url} at depth {depth}\")\n",
    "\n",
    "            # Scrape the current page and get all links from it\n",
    "            found_url, links = scrape_and_get_links(current_url)\n",
    "            if found_url:\n",
    "                results.append(found_url)  # Add to results if keywords were found\n",
    "\n",
    "            # Add new links to the queue, incrementing the depth\n",
    "            for link in links:\n",
    "                if link not in visited:  # Avoid adding already visited links\n",
    "                    queue.append((link, depth + 1))\n",
    "\n",
    "    # Save results to CSV\n",
    "    with open('scrape_results.csv', 'w', newline='') as file:\n",
    "        writer = csv.writer(file)\n",
    "        writer.writerow([\"URL\"])\n",
    "        writer.writerows([[url] for url in results])\n",
    "\n",
    "    print(f\"Scraping complete. {len(results)} pages found with keywords.\")"
   ]
  },
  {
   "cell_type": "code",
   "execution_count": 37,
   "id": "3515c724",
   "metadata": {
    "scrolled": false
   },
   "outputs": [
    {
     "name": "stdout",
     "output_type": "stream",
     "text": [
      "Scraping: https://vaww.va.gov/health/programs.asp at depth 0\n",
      "Scraping complete. 0 pages found with keywords.\n"
     ]
    }
   ],
   "source": [
    "landing_page_url = 'https://vaww.va.gov/health/programs.asp'\n",
    "crawl_website(landing_page_url, max_depth = 5)"
   ]
  },
  {
   "cell_type": "code",
   "execution_count": null,
   "id": "4a2fd9d7",
   "metadata": {},
   "outputs": [],
   "source": []
  }
 ],
 "metadata": {
  "kernelspec": {
   "display_name": "Python 3 (ipykernel)",
   "language": "python",
   "name": "python3"
  },
  "language_info": {
   "codemirror_mode": {
    "name": "ipython",
    "version": 3
   },
   "file_extension": ".py",
   "mimetype": "text/x-python",
   "name": "python",
   "nbconvert_exporter": "python",
   "pygments_lexer": "ipython3",
   "version": "3.11.4"
  }
 },
 "nbformat": 4,
 "nbformat_minor": 5
}
